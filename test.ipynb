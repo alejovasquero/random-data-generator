{
 "cells": [
  {
   "cell_type": "code",
   "execution_count": 5,
   "id": "5f64ddd4",
   "metadata": {},
   "outputs": [],
   "source": [
    "from random import randrange, Random\n",
    "\n",
    "def generate_random_number(minimum, maximum):\n",
    "    random_generator = Random()\n",
    "    return random_generator.randint(minimum, maximum)\n",
    "    \n",
    "def generate_random_strig(length, alphabet):\n",
    "    random_generator = Random()\n",
    "    result_string = \"\"\n",
    "    for i in range (0, length):\n",
    "        result_string += random_generator.choice(alphabet)\n",
    "    return result_string\n",
    "\n",
    "def choose_random_from_file(file_name):\n",
    "    file = open(file_name, \"r\")\n",
    "    lines = file.readlines()\n",
    "    file.close()\n",
    "    \n",
    "    random_line = randrange(0, len(lines))\n",
    "    print(lines)\n",
    "    \n",
    "    return (lines[random_line]).split()\n",
    "    \n",
    "    \n"
   ]
  },
  {
   "cell_type": "code",
   "execution_count": 6,
   "id": "dfc734f7",
   "metadata": {},
   "outputs": [
    {
     "name": "stdout",
     "output_type": "stream",
     "text": [
      "193\n"
     ]
    }
   ],
   "source": [
    "print(generate_random_number(53,231))"
   ]
  },
  {
   "cell_type": "code",
   "execution_count": 7,
   "id": "40e654f1",
   "metadata": {},
   "outputs": [
    {
     "name": "stdout",
     "output_type": "stream",
     "text": [
      "$$b$a$cbb$cc$b$bc$$$$$bbcbbc$bcba$aaaabbc$$aabcc$c$a$bac\n"
     ]
    }
   ],
   "source": [
    "print(generate_random_strig(56, \"abc$\"))"
   ]
  },
  {
   "cell_type": "code",
   "execution_count": 8,
   "id": "2305397e",
   "metadata": {},
   "outputs": [
    {
     "name": "stdout",
     "output_type": "stream",
     "text": [
      "['SAD\\n', 'AD\\n', 'ASD\\n', 'SAD\\n', 'ASD\\n', 'AS\\n', 'DASD\\n', '    ASDASdad\\n', '    ad\\n', '    ad\\n', '    a\\n', '    d\\n', '    ad\\n', '    a\\n', 'adad\\n', '\\n', 'ad\\n', 'ad\\n', 'da']\n",
      "['adad']\n"
     ]
    }
   ],
   "source": [
    "print(choose_random_from_file(\"untitled.txt\"))"
   ]
  },
  {
   "cell_type": "code",
   "execution_count": null,
   "id": "60713d7c",
   "metadata": {},
   "outputs": [],
   "source": []
  },
  {
   "cell_type": "code",
   "execution_count": null,
   "id": "a9a17056",
   "metadata": {},
   "outputs": [],
   "source": []
  },
  {
   "cell_type": "code",
   "execution_count": null,
   "id": "2d720c8d",
   "metadata": {},
   "outputs": [],
   "source": []
  },
  {
   "cell_type": "code",
   "execution_count": null,
   "id": "877b2cba",
   "metadata": {},
   "outputs": [],
   "source": []
  },
  {
   "cell_type": "code",
   "execution_count": null,
   "id": "d0dc2f70",
   "metadata": {},
   "outputs": [],
   "source": []
  }
 ],
 "metadata": {
  "kernelspec": {
   "display_name": "Python 3 (ipykernel)",
   "language": "python",
   "name": "python3"
  },
  "language_info": {
   "codemirror_mode": {
    "name": "ipython",
    "version": 3
   },
   "file_extension": ".py",
   "mimetype": "text/x-python",
   "name": "python",
   "nbconvert_exporter": "python",
   "pygments_lexer": "ipython3",
   "version": "3.9.16"
  }
 },
 "nbformat": 4,
 "nbformat_minor": 5
}
