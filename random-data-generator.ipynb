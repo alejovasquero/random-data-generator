{
 "cells": [
  {
   "cell_type": "code",
   "execution_count": 8,
   "id": "60713d7c",
   "metadata": {},
   "outputs": [],
   "source": [
    "import pandas"
   ]
  },
  {
   "cell_type": "code",
   "execution_count": 9,
   "id": "482bb18a",
   "metadata": {},
   "outputs": [],
   "source": [
    "import matplotlib"
   ]
  },
  {
   "cell_type": "code",
   "execution_count": 2,
   "id": "5f64ddd4",
   "metadata": {},
   "outputs": [],
   "source": [
    "import random\n",
    "\n",
    "def generate_random_number(minimum, maximum):\n",
    "    random_generator = Random()\n",
    "    return random_generator.randint(minimum, maximum)\n",
    "    \n",
    "def generate_random_strig(length, alphabet):\n",
    "    random_generator = Random()\n",
    "    result_string = \"\"\n",
    "    for i in range (0, length):\n",
    "        result_string += random_generator.choice(alphabet)\n",
    "    return result_string\n",
    "\n",
    "def choose_random_from_file(file_name):\n",
    "    file = open(file_name, \"r\")\n",
    "    lines = file.readlines()\n",
    "    file.close()\n",
    "    \n",
    "    random_line = random.randrange(0, len(lines))\n",
    "    \n",
    "    return (lines[random_line]).strip()\n",
    "    \n",
    "def create_random_address():\n",
    "    orientations_north_south = [\"Calle\", \"Diagonal\"]\n",
    "    orientations_west_easth = [\"Carrera\", \"Transversal\"]\n",
    "    additions = [\"A\", \"B\", \"C\", \"D\", \"\"]\n",
    "    \n",
    "    first_addition = random.choice(additions)\n",
    "    second_addition = random.choice(additions)\n",
    "    \n",
    "    is_south = random.choice([\"\", \"Sur\"])\n",
    "    \n",
    "    is_bis = random.choice([\"bis\", \"\"])\n",
    "    if(second_addition == \"\"):\n",
    "        is_bis = \"\"\n",
    "    \n",
    "    main_orientation = random.choice(orientations_north_south + orientations_west_easth)\n",
    "    main_number = random.randint(1, 200)\n",
    "    second_number = random.randint(1, 200)\n",
    "    third_number = random.randint(1, 200)\n",
    "    \n",
    "    result_address = None\n",
    "    format_string = \"\"\n",
    "    \n",
    "    if(main_orientation in orientations_north_south):\n",
    "        format_string = \"{orientation} {first}{first_addition} {isSouth} #{second}{second_addition}{bis}-{third}\"\n",
    "    else:\n",
    "        format_string = \"{orientation} {first}{first_addition} #{second}{second_addition}{bis}-{third} {isSouth}\"\n",
    "    return format_string.format(orientation = main_orientation, \n",
    "                              first = main_number, \n",
    "                              second = second_number,\n",
    "                              third = third_number,\n",
    "                              isSouth = is_south,\n",
    "                              first_addition = first_addition,\n",
    "                              second_addition = second_addition,\n",
    "                              bis =  is_bis\n",
    "                             )\n"
   ]
  },
  {
   "cell_type": "code",
   "execution_count": 105,
   "id": "dfc734f7",
   "metadata": {},
   "outputs": [
    {
     "name": "stdout",
     "output_type": "stream",
     "text": [
      "155\n"
     ]
    }
   ],
   "source": [
    "print(generate_random_number(53,231))"
   ]
  },
  {
   "cell_type": "code",
   "execution_count": 108,
   "id": "40e654f1",
   "metadata": {},
   "outputs": [
    {
     "name": "stdout",
     "output_type": "stream",
     "text": [
      ".2b.1ca6%b%bba$a.b%c6$6b.$b1%%32$.1c11ba.1cc.33122bb2$a6\n"
     ]
    }
   ],
   "source": [
    "print(generate_random_strig(56, \"abc.%21316$\"))"
   ]
  },
  {
   "cell_type": "code",
   "execution_count": 3,
   "id": "2305397e",
   "metadata": {},
   "outputs": [
    {
     "ename": "FileNotFoundError",
     "evalue": "[Errno 2] No such file or directory: 'untitled.txt'",
     "output_type": "error",
     "traceback": [
      "\u001b[1;31m---------------------------------------------------------------------------\u001b[0m",
      "\u001b[1;31mFileNotFoundError\u001b[0m                         Traceback (most recent call last)",
      "Cell \u001b[1;32mIn[3], line 1\u001b[0m\n\u001b[1;32m----> 1\u001b[0m \u001b[38;5;28mprint\u001b[39m(\u001b[43mchoose_random_from_file\u001b[49m\u001b[43m(\u001b[49m\u001b[38;5;124;43m\"\u001b[39;49m\u001b[38;5;124;43muntitled.txt\u001b[39;49m\u001b[38;5;124;43m\"\u001b[39;49m\u001b[43m)\u001b[49m)\n",
      "Cell \u001b[1;32mIn[2], line 15\u001b[0m, in \u001b[0;36mchoose_random_from_file\u001b[1;34m(file_name)\u001b[0m\n\u001b[0;32m     14\u001b[0m \u001b[38;5;28;01mdef\u001b[39;00m \u001b[38;5;21mchoose_random_from_file\u001b[39m(file_name):\n\u001b[1;32m---> 15\u001b[0m     file \u001b[38;5;241m=\u001b[39m \u001b[38;5;28;43mopen\u001b[39;49m\u001b[43m(\u001b[49m\u001b[43mfile_name\u001b[49m\u001b[43m,\u001b[49m\u001b[43m \u001b[49m\u001b[38;5;124;43m\"\u001b[39;49m\u001b[38;5;124;43mr\u001b[39;49m\u001b[38;5;124;43m\"\u001b[39;49m\u001b[43m)\u001b[49m\n\u001b[0;32m     16\u001b[0m     lines \u001b[38;5;241m=\u001b[39m file\u001b[38;5;241m.\u001b[39mreadlines()\n\u001b[0;32m     17\u001b[0m     file\u001b[38;5;241m.\u001b[39mclose()\n",
      "File \u001b[1;32m~\\anaconda3\\envs\\ALDA\\lib\\site-packages\\IPython\\core\\interactiveshell.py:282\u001b[0m, in \u001b[0;36m_modified_open\u001b[1;34m(file, *args, **kwargs)\u001b[0m\n\u001b[0;32m    275\u001b[0m \u001b[38;5;28;01mif\u001b[39;00m file \u001b[38;5;129;01min\u001b[39;00m {\u001b[38;5;241m0\u001b[39m, \u001b[38;5;241m1\u001b[39m, \u001b[38;5;241m2\u001b[39m}:\n\u001b[0;32m    276\u001b[0m     \u001b[38;5;28;01mraise\u001b[39;00m \u001b[38;5;167;01mValueError\u001b[39;00m(\n\u001b[0;32m    277\u001b[0m         \u001b[38;5;124mf\u001b[39m\u001b[38;5;124m\"\u001b[39m\u001b[38;5;124mIPython won\u001b[39m\u001b[38;5;124m'\u001b[39m\u001b[38;5;124mt let you open fd=\u001b[39m\u001b[38;5;132;01m{\u001b[39;00mfile\u001b[38;5;132;01m}\u001b[39;00m\u001b[38;5;124m by default \u001b[39m\u001b[38;5;124m\"\u001b[39m\n\u001b[0;32m    278\u001b[0m         \u001b[38;5;124m\"\u001b[39m\u001b[38;5;124mas it is likely to crash IPython. If you know what you are doing, \u001b[39m\u001b[38;5;124m\"\u001b[39m\n\u001b[0;32m    279\u001b[0m         \u001b[38;5;124m\"\u001b[39m\u001b[38;5;124myou can use builtins\u001b[39m\u001b[38;5;124m'\u001b[39m\u001b[38;5;124m open.\u001b[39m\u001b[38;5;124m\"\u001b[39m\n\u001b[0;32m    280\u001b[0m     )\n\u001b[1;32m--> 282\u001b[0m \u001b[38;5;28;01mreturn\u001b[39;00m io_open(file, \u001b[38;5;241m*\u001b[39margs, \u001b[38;5;241m*\u001b[39m\u001b[38;5;241m*\u001b[39mkwargs)\n",
      "\u001b[1;31mFileNotFoundError\u001b[0m: [Errno 2] No such file or directory: 'untitled.txt'"
     ]
    }
   ],
   "source": [
    "print(choose_random_from_file(\"dict/test_dict.txt\"))"
   ]
  },
  {
   "cell_type": "code",
   "execution_count": 112,
   "id": "a9a17056",
   "metadata": {},
   "outputs": [
    {
     "name": "stdout",
     "output_type": "stream",
     "text": [
      "Transversal 58 #93Dbis-71 \n"
     ]
    }
   ],
   "source": [
    "print(create_random_address())"
   ]
  },
  {
   "cell_type": "code",
   "execution_count": null,
   "id": "2d720c8d",
   "metadata": {},
   "outputs": [],
   "source": []
  },
  {
   "cell_type": "code",
   "execution_count": null,
   "id": "877b2cba",
   "metadata": {},
   "outputs": [],
   "source": []
  },
  {
   "cell_type": "code",
   "execution_count": null,
   "id": "d0dc2f70",
   "metadata": {},
   "outputs": [],
   "source": []
  }
 ],
 "metadata": {
  "kernelspec": {
   "display_name": "Python 3 (ipykernel)",
   "language": "python",
   "name": "python3"
  },
  "language_info": {
   "codemirror_mode": {
    "name": "ipython",
    "version": 3
   },
   "file_extension": ".py",
   "mimetype": "text/x-python",
   "name": "python",
   "nbconvert_exporter": "python",
   "pygments_lexer": "ipython3",
   "version": "3.9.16"
  }
 },
 "nbformat": 4,
 "nbformat_minor": 5
}
