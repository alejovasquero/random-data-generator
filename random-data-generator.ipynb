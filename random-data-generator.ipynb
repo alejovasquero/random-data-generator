{
 "cells": [
  {
   "cell_type": "code",
   "execution_count": 8,
   "id": "60713d7c",
   "metadata": {},
   "outputs": [],
   "source": [
    "import pandas"
   ]
  },
  {
   "cell_type": "code",
   "execution_count": 9,
   "id": "482bb18a",
   "metadata": {},
   "outputs": [],
   "source": [
    "import matplotlib"
   ]
  },
  {
   "cell_type": "code",
   "execution_count": 100,
   "id": "5f64ddd4",
   "metadata": {},
   "outputs": [],
   "source": [
    "import random\n",
    "\n",
    "def generate_random_number(minimum, maximum):\n",
    "    random_generator = Random()\n",
    "    return random_generator.randint(minimum, maximum)\n",
    "    \n",
    "def generate_random_strig(length, alphabet):\n",
    "    random_generator = Random()\n",
    "    result_string = \"\"\n",
    "    for i in range (0, length):\n",
    "        result_string += random_generator.choice(alphabet)\n",
    "    return result_string\n",
    "\n",
    "def choose_random_from_file(file_name):\n",
    "    file = open(file_name, \"r\")\n",
    "    lines = file.readlines()\n",
    "    file.close()\n",
    "    \n",
    "    random_line = random.randrange(0, len(lines))\n",
    "    \n",
    "    return (lines[random_line]).strip()\n",
    "    \n",
    "def create_random_address():\n",
    "    orientations_north_south = [\"Calle\", \"Diagonal\"]\n",
    "    orientations_west_easth = [\"Carrera\", \"Transversal\"]\n",
    "    additions = [\"A\", \"B\", \"C\", \"D\", \"\"]\n",
    "    \n",
    "    first_addition = random.choice(additions)\n",
    "    second_addition = random.choice(additions)\n",
    "    \n",
    "    is_south = random.choice([\"\", \"Sur\"])\n",
    "    \n",
    "    is_bis = random.choice([\"bis\", \"\"])\n",
    "    if(second_addition == \"\"):\n",
    "        is_bis = \"\"\n",
    "    \n",
    "    main_orientation = random.choice(orientations_north_south + orientations_west_easth)\n",
    "    main_number = random.randint(1, 200)\n",
    "    second_number = random.randint(1, 200)\n",
    "    third_number = random.randint(1, 200)\n",
    "    \n",
    "    result_address = None\n",
    "    format_string = \"\"\n",
    "    \n",
    "    if(main_orientation in orientations_north_south):\n",
    "        format_string = \"{orientation} {first}{first_addition} {isSouth} #{second}{second_addition}{bis}-{third}\"\n",
    "    else:\n",
    "        format_string = \"{orientation} {first}{first_addition} #{second}{second_addition}{bis}-{third} {isSouth}\"\n",
    "    return format_string.format(orientation = main_orientation, \n",
    "                              first = main_number, \n",
    "                              second = second_number,\n",
    "                              third = third_number,\n",
    "                              isSouth = is_south,\n",
    "                              first_addition = first_addition,\n",
    "                              second_addition = second_addition,\n",
    "                              bis =  is_bis\n",
    "                             )\n"
   ]
  },
  {
   "cell_type": "code",
   "execution_count": 105,
   "id": "dfc734f7",
   "metadata": {},
   "outputs": [
    {
     "name": "stdout",
     "output_type": "stream",
     "text": [
      "155\n"
     ]
    }
   ],
   "source": [
    "print(generate_random_number(53,231))"
   ]
  },
  {
   "cell_type": "code",
   "execution_count": 108,
   "id": "40e654f1",
   "metadata": {},
   "outputs": [
    {
     "name": "stdout",
     "output_type": "stream",
     "text": [
      ".2b.1ca6%b%bba$a.b%c6$6b.$b1%%32$.1c11ba.1cc.33122bb2$a6\n"
     ]
    }
   ],
   "source": [
    "print(generate_random_strig(56, \"abc.%21316$\"))"
   ]
  },
  {
   "cell_type": "code",
   "execution_count": 109,
   "id": "2305397e",
   "metadata": {},
   "outputs": [
    {
     "name": "stdout",
     "output_type": "stream",
     "text": [
      "da\n"
     ]
    }
   ],
   "source": [
    "print(choose_random_from_file(\"untitled.txt\"))"
   ]
  },
  {
   "cell_type": "code",
   "execution_count": 112,
   "id": "a9a17056",
   "metadata": {},
   "outputs": [
    {
     "name": "stdout",
     "output_type": "stream",
     "text": [
      "Transversal 58 #93Dbis-71 \n"
     ]
    }
   ],
   "source": [
    "print(create_random_address())"
   ]
  },
  {
   "cell_type": "code",
   "execution_count": null,
   "id": "2d720c8d",
   "metadata": {},
   "outputs": [],
   "source": []
  },
  {
   "cell_type": "code",
   "execution_count": null,
   "id": "877b2cba",
   "metadata": {},
   "outputs": [],
   "source": []
  },
  {
   "cell_type": "code",
   "execution_count": null,
   "id": "d0dc2f70",
   "metadata": {},
   "outputs": [],
   "source": []
  }
 ],
 "metadata": {
  "kernelspec": {
   "display_name": "Python 3 (ipykernel)",
   "language": "python",
   "name": "python3"
  },
  "language_info": {
   "codemirror_mode": {
    "name": "ipython",
    "version": 3
   },
   "file_extension": ".py",
   "mimetype": "text/x-python",
   "name": "python",
   "nbconvert_exporter": "python",
   "pygments_lexer": "ipython3",
   "version": "3.9.16"
  }
 },
 "nbformat": 4,
 "nbformat_minor": 5
}
